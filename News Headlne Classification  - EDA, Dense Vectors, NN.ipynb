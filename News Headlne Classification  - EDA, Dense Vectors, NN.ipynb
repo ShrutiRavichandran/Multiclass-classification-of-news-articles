{
 "cells": [
  {
   "cell_type": "code",
   "execution_count": 1,
   "id": "b096d905",
   "metadata": {},
   "outputs": [],
   "source": [
    "import pandas as pd\n",
    "import numpy as np\n",
    "import json"
   ]
  },
  {
   "cell_type": "markdown",
   "id": "620a9a08",
   "metadata": {},
   "source": [
    "## READ DATA AND PERFORM EDAs"
   ]
  },
  {
   "cell_type": "code",
   "execution_count": 2,
   "id": "183b8058",
   "metadata": {},
   "outputs": [
    {
     "data": {
      "text/html": [
       "<div>\n",
       "<style scoped>\n",
       "    .dataframe tbody tr th:only-of-type {\n",
       "        vertical-align: middle;\n",
       "    }\n",
       "\n",
       "    .dataframe tbody tr th {\n",
       "        vertical-align: top;\n",
       "    }\n",
       "\n",
       "    .dataframe thead th {\n",
       "        text-align: right;\n",
       "    }\n",
       "</style>\n",
       "<table border=\"1\" class=\"dataframe\">\n",
       "  <thead>\n",
       "    <tr style=\"text-align: right;\">\n",
       "      <th></th>\n",
       "      <th>link</th>\n",
       "      <th>headline</th>\n",
       "      <th>category</th>\n",
       "      <th>short_description</th>\n",
       "      <th>authors</th>\n",
       "      <th>date</th>\n",
       "    </tr>\n",
       "  </thead>\n",
       "  <tbody>\n",
       "    <tr>\n",
       "      <th>0</th>\n",
       "      <td>https://www.huffpost.com/entry/covid-boosters-...</td>\n",
       "      <td>Over 4 Million Americans Roll Up Sleeves For O...</td>\n",
       "      <td>U.S. NEWS</td>\n",
       "      <td>Health experts said it is too early to predict...</td>\n",
       "      <td>Carla K. Johnson, AP</td>\n",
       "      <td>2022-09-23</td>\n",
       "    </tr>\n",
       "    <tr>\n",
       "      <th>1</th>\n",
       "      <td>https://www.huffpost.com/entry/american-airlin...</td>\n",
       "      <td>American Airlines Flyer Charged, Banned For Li...</td>\n",
       "      <td>U.S. NEWS</td>\n",
       "      <td>He was subdued by passengers and crew when he ...</td>\n",
       "      <td>Mary Papenfuss</td>\n",
       "      <td>2022-09-23</td>\n",
       "    </tr>\n",
       "    <tr>\n",
       "      <th>2</th>\n",
       "      <td>https://www.huffpost.com/entry/funniest-tweets...</td>\n",
       "      <td>23 Of The Funniest Tweets About Cats And Dogs ...</td>\n",
       "      <td>COMEDY</td>\n",
       "      <td>\"Until you have a dog you don't understand wha...</td>\n",
       "      <td>Elyse Wanshel</td>\n",
       "      <td>2022-09-23</td>\n",
       "    </tr>\n",
       "    <tr>\n",
       "      <th>3</th>\n",
       "      <td>https://www.huffpost.com/entry/funniest-parent...</td>\n",
       "      <td>The Funniest Tweets From Parents This Week (Se...</td>\n",
       "      <td>PARENTING</td>\n",
       "      <td>\"Accidentally put grown-up toothpaste on my to...</td>\n",
       "      <td>Caroline Bologna</td>\n",
       "      <td>2022-09-23</td>\n",
       "    </tr>\n",
       "    <tr>\n",
       "      <th>4</th>\n",
       "      <td>https://www.huffpost.com/entry/amy-cooper-lose...</td>\n",
       "      <td>Woman Who Called Cops On Black Bird-Watcher Lo...</td>\n",
       "      <td>U.S. NEWS</td>\n",
       "      <td>Amy Cooper accused investment firm Franklin Te...</td>\n",
       "      <td>Nina Golgowski</td>\n",
       "      <td>2022-09-22</td>\n",
       "    </tr>\n",
       "  </tbody>\n",
       "</table>\n",
       "</div>"
      ],
      "text/plain": [
       "                                                link  \\\n",
       "0  https://www.huffpost.com/entry/covid-boosters-...   \n",
       "1  https://www.huffpost.com/entry/american-airlin...   \n",
       "2  https://www.huffpost.com/entry/funniest-tweets...   \n",
       "3  https://www.huffpost.com/entry/funniest-parent...   \n",
       "4  https://www.huffpost.com/entry/amy-cooper-lose...   \n",
       "\n",
       "                                            headline   category  \\\n",
       "0  Over 4 Million Americans Roll Up Sleeves For O...  U.S. NEWS   \n",
       "1  American Airlines Flyer Charged, Banned For Li...  U.S. NEWS   \n",
       "2  23 Of The Funniest Tweets About Cats And Dogs ...     COMEDY   \n",
       "3  The Funniest Tweets From Parents This Week (Se...  PARENTING   \n",
       "4  Woman Who Called Cops On Black Bird-Watcher Lo...  U.S. NEWS   \n",
       "\n",
       "                                   short_description               authors  \\\n",
       "0  Health experts said it is too early to predict...  Carla K. Johnson, AP   \n",
       "1  He was subdued by passengers and crew when he ...        Mary Papenfuss   \n",
       "2  \"Until you have a dog you don't understand wha...         Elyse Wanshel   \n",
       "3  \"Accidentally put grown-up toothpaste on my to...      Caroline Bologna   \n",
       "4  Amy Cooper accused investment firm Franklin Te...        Nina Golgowski   \n",
       "\n",
       "        date  \n",
       "0 2022-09-23  \n",
       "1 2022-09-23  \n",
       "2 2022-09-23  \n",
       "3 2022-09-23  \n",
       "4 2022-09-22  "
      ]
     },
     "execution_count": 2,
     "metadata": {},
     "output_type": "execute_result"
    }
   ],
   "source": [
    "with open(\"News_Category_Dataset_v3.json\", 'r') as file:\n",
    "    # Load JSON data into a list of dictionaries\n",
    "    json_list = [json.loads(line) for line in file]\n",
    "    \n",
    "df = pd.DataFrame(json_list)\n",
    "df['date'] = pd.to_datetime(df['date'], format='%Y-%m-%d')\n",
    "df.to_csv(\"News_Category_Dataset_v3.csv\")\n",
    "df.head()"
   ]
  },
  {
   "cell_type": "markdown",
   "id": "cd0e5c18",
   "metadata": {},
   "source": [
    "### Control Totals"
   ]
  },
  {
   "cell_type": "code",
   "execution_count": 3,
   "id": "4fae10a6",
   "metadata": {},
   "outputs": [
    {
     "data": {
      "text/plain": [
       "(209527, 6)"
      ]
     },
     "execution_count": 3,
     "metadata": {},
     "output_type": "execute_result"
    }
   ],
   "source": [
    "df.shape"
   ]
  },
  {
   "cell_type": "code",
   "execution_count": 4,
   "id": "922b841a",
   "metadata": {},
   "outputs": [
    {
     "data": {
      "text/plain": [
       "Index(['link', 'headline', 'category', 'short_description', 'authors', 'date'], dtype='object')"
      ]
     },
     "execution_count": 4,
     "metadata": {},
     "output_type": "execute_result"
    }
   ],
   "source": [
    "df.columns"
   ]
  },
  {
   "cell_type": "code",
   "execution_count": 5,
   "id": "85ab23ec",
   "metadata": {},
   "outputs": [
    {
     "name": "stdout",
     "output_type": "stream",
     "text": [
      "Number of unique categories in the dataset: 42\n"
     ]
    }
   ],
   "source": [
    "print(f\"Number of unique categories in the dataset: {len(df['category'].unique())}\")"
   ]
  },
  {
   "cell_type": "code",
   "execution_count": 6,
   "id": "ccbc3ae1",
   "metadata": {},
   "outputs": [
    {
     "name": "stdout",
     "output_type": "stream",
     "text": [
      "Number of unique authors in the dataset: 29169\n"
     ]
    }
   ],
   "source": [
    "print(f\"Number of unique authors in the dataset: {len(df['authors'].unique())}\")"
   ]
  },
  {
   "cell_type": "code",
   "execution_count": 7,
   "id": "1d68b64a",
   "metadata": {},
   "outputs": [
    {
     "name": "stdout",
     "output_type": "stream",
     "text": [
      "Number of unique years in the dataset: 11\n"
     ]
    }
   ],
   "source": [
    "print(f\"Number of unique years in the dataset: {len(df['date'].dt.year.unique())}\")"
   ]
  },
  {
   "cell_type": "markdown",
   "id": "d85a9544",
   "metadata": {},
   "source": [
    "### Null Checks"
   ]
  },
  {
   "cell_type": "code",
   "execution_count": 8,
   "id": "d58c81f0",
   "metadata": {},
   "outputs": [
    {
     "name": "stdout",
     "output_type": "stream",
     "text": [
      "Number of unique categories in the dataset: 42\n"
     ]
    }
   ],
   "source": [
    "print(f\"Number of unique categories in the dataset: {len(df['category'].unique())}\")"
   ]
  },
  {
   "cell_type": "code",
   "execution_count": 9,
   "id": "02d65f6b",
   "metadata": {},
   "outputs": [
    {
     "data": {
      "text/plain": [
       "link                 0\n",
       "headline             0\n",
       "category             0\n",
       "short_description    0\n",
       "authors              0\n",
       "date                 0\n",
       "dtype: int64"
      ]
     },
     "execution_count": 9,
     "metadata": {},
     "output_type": "execute_result"
    }
   ],
   "source": [
    "df.isna().sum()"
   ]
  },
  {
   "cell_type": "markdown",
   "id": "1f152bb2",
   "metadata": {},
   "source": [
    "There are no null values in the dataset"
   ]
  },
  {
   "cell_type": "code",
   "execution_count": 10,
   "id": "be09c910",
   "metadata": {},
   "outputs": [
    {
     "name": "stdout",
     "output_type": "stream",
     "text": [
      "link 0\n",
      "headline 6\n",
      "category 0\n",
      "short_description 19712\n",
      "authors 37418\n",
      "date 0\n"
     ]
    }
   ],
   "source": [
    "for col in df.columns:\n",
    "    print(col, df[df[col]==''].shape[0])"
   ]
  },
  {
   "cell_type": "markdown",
   "id": "2f560479",
   "metadata": {},
   "source": [
    "There are 19K rows in short description column that have a blank string - therefore 9.4% of the dataset is unusable based on short description alone. However, most reviews have a headline, so they can still be retained at this step of the analysis"
   ]
  },
  {
   "cell_type": "code",
   "execution_count": 11,
   "id": "7b682c1c",
   "metadata": {},
   "outputs": [
    {
     "name": "stdout",
     "output_type": "stream",
     "text": [
      "Remaining rows in the dataset: 209521\n",
      "\n",
      "link 0\n",
      "headline 0\n",
      "category 0\n",
      "short_description 19707\n",
      "authors 37418\n",
      "date 0\n"
     ]
    }
   ],
   "source": [
    "# Removing rows that have no headline:\n",
    "\n",
    "df = df[df['headline']!='']\n",
    "\n",
    "print(f\"Remaining rows in the dataset: {df.shape[0]}\\n\")\n",
    "for col in df.columns:\n",
    "    print(col, df[df[col]==''].shape[0])"
   ]
  },
  {
   "cell_type": "markdown",
   "id": "f434b8d0",
   "metadata": {},
   "source": [
    "### Distribution of the articles by category, year"
   ]
  },
  {
   "cell_type": "markdown",
   "id": "84f9a1e9",
   "metadata": {},
   "source": [
    "#### By Category"
   ]
  },
  {
   "cell_type": "code",
   "execution_count": 12,
   "id": "c2d03e3e",
   "metadata": {
    "scrolled": false
   },
   "outputs": [
    {
     "data": {
      "image/png": "[encoded data removed]",
      "text/plain": [
       "<Figure size 1080x1440 with 1 Axes>"
      ]
     },
     "metadata": {
      "needs_background": "light"
     },
     "output_type": "display_data"
    }
   ],
   "source": [
    "import matplotlib.pyplot as plt\n",
    "\n",
    "plt.figure(figsize=(15, 20))\n",
    "counts = df['category'].value_counts(ascending=True)\n",
    "percentages = (counts / counts.sum()) * 100\n",
    "ax = percentages.plot(kind='barh', color='darkblue')\n",
    "\n",
    "for i, (count, percentage) in enumerate(zip(counts, percentages)):\n",
    "    ax.text(percentage + 0.1, i, f'{percentage:.0f}%', ha='left', va='center', color='black')\n",
    "    \n",
    "plt.title('Category Distribution (%)')\n",
    "plt.xlabel('Percentage of articles')\n",
    "plt.ylabel('Category')\n",
    "plt.show()"
   ]
  },
  {
   "cell_type": "markdown",
   "id": "c602f561",
   "metadata": {},
   "source": [
    "##### OBSERVATIONS:\n",
    "'STYLE' (2254 articles) seems like it can be a subset 'STYLE & BEAUTY' (9814 articles)\n",
    "\n",
    "'CULTURE & ARTS', 'ARTS & CULTURE', and 'ARTS' categories seem to be very close to each other in meaning and in count.\n",
    "\n",
    "'WORLDPOST' (2579) could be the same as 'THE WORLDPOST' (3664)\n",
    "\n",
    "'COLLEGE'  (1144) could be a subcategory of 'EDUCATION'  (1014)\n",
    "\n",
    "'TASTE' (2096) could be a subcategory of 'FOOD & DRINK'  (6340)\n",
    "##### It is worthwhile to examine with further analysis if the above categories can be combined into the same one as it would help with reducing the imabalance in the dataset and have cleaner categories"
   ]
  },
  {
   "cell_type": "markdown",
   "id": "b090170a",
   "metadata": {},
   "source": [
    "#### By Years"
   ]
  },
  {
   "cell_type": "code",
   "execution_count": 13,
   "id": "77890e59",
   "metadata": {},
   "outputs": [
    {
     "data": {
      "image/png": "[encoded data removed]",
      "text/plain": [
       "<Figure size 1440x720 with 1 Axes>"
      ]
     },
     "metadata": {
      "needs_background": "light"
     },
     "output_type": "display_data"
    }
   ],
   "source": [
    "import matplotlib.pyplot as plt\n",
    "\n",
    "plt.figure(figsize=(20, 10))\n",
    "counts = df['date'].dt.year.value_counts(ascending=True).sort_index()\n",
    "percentages = (counts / counts.sum()) * 100\n",
    "ax = percentages.plot(kind='barh', color='darkblue')\n",
    "\n",
    "for i, (count, percentage) in enumerate(zip(counts, percentages)):\n",
    "    ax.text(percentage + 0.1, i, f'{percentage:.0f}%', ha='left', va='center', color='black')\n",
    "    \n",
    "plt.title('Year Distribution (%)')\n",
    "plt.xlabel('Percentage of articles')\n",
    "plt.ylabel('Year')\n",
    "plt.show()"
   ]
  },
  {
   "cell_type": "markdown",
   "id": "72aacc92",
   "metadata": {},
   "source": [
    "# ESTABLISHING BASELINES"
   ]
  },
  {
   "cell_type": "markdown",
   "id": "227a3cb4",
   "metadata": {},
   "source": [
    "## Dense Vector with NN & Non-NN models"
   ]
  },
  {
   "cell_type": "markdown",
   "id": "03c532d3",
   "metadata": {},
   "source": [
    "### Preprocess"
   ]
  },
  {
   "cell_type": "code",
   "execution_count": 14,
   "id": "0c0764b4",
   "metadata": {},
   "outputs": [],
   "source": [
    "from nltk import pos_tag\n",
    "from nltk.stem import WordNetLemmatizer\n",
    "\n",
    "def nltk_pos_to_wordnet_pos(nltk_pos):\n",
    "    if nltk_pos.startswith('J'):\n",
    "        return wordnet.ADJ\n",
    "    elif nltk_pos.startswith('V'):\n",
    "        return wordnet.VERB\n",
    "    elif nltk_pos.startswith('N'):\n",
    "        return wordnet.NOUN\n",
    "    elif nltk_pos.startswith('R'):\n",
    "        return wordnet.ADV\n",
    "    else:          \n",
    "        return None"
   ]
  },
  {
   "cell_type": "code",
   "execution_count": 15,
   "id": "fce2cf0d",
   "metadata": {},
   "outputs": [],
   "source": [
    "import nltk\n",
    "from nltk.tokenize import word_tokenize\n",
    "from nltk.corpus import stopwords\n",
    "from nltk.stem import PorterStemmer\n",
    "from nltk.stem import WordNetLemmatizer\n",
    "from nltk import pos_tag\n",
    "import string\n",
    "\n",
    "# nltk.download('punkt')\n",
    "# nltk.download('stopwords')\n",
    "\n",
    "def preprocess_text(text, tasks, verbose=False):\n",
    "    \n",
    "    print(f\"Original Text: {text}\") if verbose else None\n",
    "    \n",
    "    # Removing leading and training quotation marks\n",
    "    text = text.strip('\"')\n",
    "    print(f\"Cleaned Text: {text}\") if verbose else None\n",
    "\n",
    "    # Convert to lowercase\n",
    "    if 1 in tasks:\n",
    "        tokens = text.lower()\n",
    "        print(f\"Lowercased Text: {tokens}\") if verbose else None\n",
    "    \n",
    "    # Tokenize the text\n",
    "    if 2 in tasks:\n",
    "        tokens = word_tokenize(tokens)\n",
    "        print(f\"Tokenized Text: {tokens}\") if verbose else None\n",
    "\n",
    "    # POS Tagging\n",
    "    if 3 in tasks:\n",
    "        pos_tagged = pos_tag(tokens)\n",
    "        print(f\"POS Tags for Text: {tokens}\") if verbose else None\n",
    "    \n",
    "    # Remove punctuation\n",
    "    if 4 in tasks:\n",
    "        tokens = [token for token in tokens if token not in string.punctuation]\n",
    "        print(f\"Punctuations Removed Text: {tokens}\") if verbose else None\n",
    "        \n",
    "    # Stemming\n",
    "    if 5 in tasks:\n",
    "        porter = PorterStemmer()\n",
    "        tokens = [porter.stem(word) for word in tokens]\n",
    "        print(f\"Stemmed Text: {tokens}\") if verbose else None\n",
    "        \n",
    "    # Simple Lemmatization\n",
    "    if 6 in tasks:\n",
    "        lemmatizer = WordNetLemmatizer()\n",
    "        tokens = [lemmatizer.lemmatize(word) for word in tokens]\n",
    "        print(f\"Lemmatized (wo POS Tags) Text: {tokens}\") if verbose else None\n",
    "        \n",
    "    # Lemmatization with POS Tagging\n",
    "    if 7 in tasks:\n",
    "        if not pos_tagged:\n",
    "            raise(\"Enable task POS Tagging (3) for Lemmatization with POS Tagging (7)\")\n",
    "        \n",
    "        else:\n",
    "            # Lemmatize each word with its part-of-speech tag\n",
    "            lemmatizer = WordNetLemmatizer()\n",
    "            lemmatized_words = []\n",
    "            for word, pos in words_and_pos:\n",
    "                wordnet_pos = nltk_pos_to_wordnet_pos(pos) or wordnet.NOUN\n",
    "                lemmatized_words.append(lemmatizer.lemmatize(word, pos=wordnet_pos))\n",
    "            tokens = lemmatized_words\n",
    "            print(f\"Lemmatized (w POS Tags) Text: {tokens}\") if verbose else None\n",
    "\n",
    "    return tokens"
   ]
  },
  {
   "cell_type": "code",
   "execution_count": 16,
   "id": "b059d3b8",
   "metadata": {},
   "outputs": [
    {
     "data": {
      "text/html": [
       "<div>\n",
       "<style scoped>\n",
       "    .dataframe tbody tr th:only-of-type {\n",
       "        vertical-align: middle;\n",
       "    }\n",
       "\n",
       "    .dataframe tbody tr th {\n",
       "        vertical-align: top;\n",
       "    }\n",
       "\n",
       "    .dataframe thead th {\n",
       "        text-align: right;\n",
       "    }\n",
       "</style>\n",
       "<table border=\"1\" class=\"dataframe\">\n",
       "  <thead>\n",
       "    <tr style=\"text-align: right;\">\n",
       "      <th></th>\n",
       "      <th>link</th>\n",
       "      <th>headline</th>\n",
       "      <th>category</th>\n",
       "      <th>short_description</th>\n",
       "      <th>authors</th>\n",
       "      <th>date</th>\n",
       "      <th>article</th>\n",
       "      <th>preprocessed_tokens_12</th>\n",
       "    </tr>\n",
       "  </thead>\n",
       "  <tbody>\n",
       "    <tr>\n",
       "      <th>0</th>\n",
       "      <td>https://www.huffpost.com/entry/covid-boosters-...</td>\n",
       "      <td>Over 4 Million Americans Roll Up Sleeves For O...</td>\n",
       "      <td>U.S. NEWS</td>\n",
       "      <td>Health experts said it is too early to predict...</td>\n",
       "      <td>Carla K. Johnson, AP</td>\n",
       "      <td>2022-09-23</td>\n",
       "      <td>Over 4 Million Americans Roll Up Sleeves For O...</td>\n",
       "      <td>[over, 4, million, americans, roll, up, sleeve...</td>\n",
       "    </tr>\n",
       "    <tr>\n",
       "      <th>1</th>\n",
       "      <td>https://www.huffpost.com/entry/american-airlin...</td>\n",
       "      <td>American Airlines Flyer Charged, Banned For Li...</td>\n",
       "      <td>U.S. NEWS</td>\n",
       "      <td>He was subdued by passengers and crew when he ...</td>\n",
       "      <td>Mary Papenfuss</td>\n",
       "      <td>2022-09-23</td>\n",
       "      <td>American Airlines Flyer Charged, Banned For Li...</td>\n",
       "      <td>[american, airlines, flyer, charged, ,, banned...</td>\n",
       "    </tr>\n",
       "    <tr>\n",
       "      <th>2</th>\n",
       "      <td>https://www.huffpost.com/entry/funniest-tweets...</td>\n",
       "      <td>23 Of The Funniest Tweets About Cats And Dogs ...</td>\n",
       "      <td>COMEDY</td>\n",
       "      <td>\"Until you have a dog you don't understand wha...</td>\n",
       "      <td>Elyse Wanshel</td>\n",
       "      <td>2022-09-23</td>\n",
       "      <td>23 Of The Funniest Tweets About Cats And Dogs ...</td>\n",
       "      <td>[23, of, the, funniest, tweets, about, cats, a...</td>\n",
       "    </tr>\n",
       "    <tr>\n",
       "      <th>3</th>\n",
       "      <td>https://www.huffpost.com/entry/funniest-parent...</td>\n",
       "      <td>The Funniest Tweets From Parents This Week (Se...</td>\n",
       "      <td>PARENTING</td>\n",
       "      <td>\"Accidentally put grown-up toothpaste on my to...</td>\n",
       "      <td>Caroline Bologna</td>\n",
       "      <td>2022-09-23</td>\n",
       "      <td>The Funniest Tweets From Parents This Week (Se...</td>\n",
       "      <td>[the, funniest, tweets, from, parents, this, w...</td>\n",
       "    </tr>\n",
       "    <tr>\n",
       "      <th>4</th>\n",
       "      <td>https://www.huffpost.com/entry/amy-cooper-lose...</td>\n",
       "      <td>Woman Who Called Cops On Black Bird-Watcher Lo...</td>\n",
       "      <td>U.S. NEWS</td>\n",
       "      <td>Amy Cooper accused investment firm Franklin Te...</td>\n",
       "      <td>Nina Golgowski</td>\n",
       "      <td>2022-09-22</td>\n",
       "      <td>Woman Who Called Cops On Black Bird-Watcher Lo...</td>\n",
       "      <td>[woman, who, called, cops, on, black, bird-wat...</td>\n",
       "    </tr>\n",
       "  </tbody>\n",
       "</table>\n",
       "</div>"
      ],
      "text/plain": [
       "                                                link  \\\n",
       "0  https://www.huffpost.com/entry/covid-boosters-...   \n",
       "1  https://www.huffpost.com/entry/american-airlin...   \n",
       "2  https://www.huffpost.com/entry/funniest-tweets...   \n",
       "3  https://www.huffpost.com/entry/funniest-parent...   \n",
       "4  https://www.huffpost.com/entry/amy-cooper-lose...   \n",
       "\n",
       "                                            headline   category  \\\n",
       "0  Over 4 Million Americans Roll Up Sleeves For O...  U.S. NEWS   \n",
       "1  American Airlines Flyer Charged, Banned For Li...  U.S. NEWS   \n",
       "2  23 Of The Funniest Tweets About Cats And Dogs ...     COMEDY   \n",
       "3  The Funniest Tweets From Parents This Week (Se...  PARENTING   \n",
       "4  Woman Who Called Cops On Black Bird-Watcher Lo...  U.S. NEWS   \n",
       "\n",
       "                                   short_description               authors  \\\n",
       "0  Health experts said it is too early to predict...  Carla K. Johnson, AP   \n",
       "1  He was subdued by passengers and crew when he ...        Mary Papenfuss   \n",
       "2  \"Until you have a dog you don't understand wha...         Elyse Wanshel   \n",
       "3  \"Accidentally put grown-up toothpaste on my to...      Caroline Bologna   \n",
       "4  Amy Cooper accused investment firm Franklin Te...        Nina Golgowski   \n",
       "\n",
       "        date                                            article  \\\n",
       "0 2022-09-23  Over 4 Million Americans Roll Up Sleeves For O...   \n",
       "1 2022-09-23  American Airlines Flyer Charged, Banned For Li...   \n",
       "2 2022-09-23  23 Of The Funniest Tweets About Cats And Dogs ...   \n",
       "3 2022-09-23  The Funniest Tweets From Parents This Week (Se...   \n",
       "4 2022-09-22  Woman Who Called Cops On Black Bird-Watcher Lo...   \n",
       "\n",
       "                              preprocessed_tokens_12  \n",
       "0  [over, 4, million, americans, roll, up, sleeve...  \n",
       "1  [american, airlines, flyer, charged, ,, banned...  \n",
       "2  [23, of, the, funniest, tweets, about, cats, a...  \n",
       "3  [the, funniest, tweets, from, parents, this, w...  \n",
       "4  [woman, who, called, cops, on, black, bird-wat...  "
      ]
     },
     "execution_count": 16,
     "metadata": {},
     "output_type": "execute_result"
    }
   ],
   "source": [
    "df['article'] = df['headline'] + ': ' + df['short_description']\n",
    "df['preprocessed_tokens_12'] = df['article'].apply(lambda x: preprocess_text(x, [1, 2]))\n",
    "df.head()"
   ]
  },
  {
   "cell_type": "markdown",
   "id": "bd6c0372",
   "metadata": {},
   "source": [
    "### Generate word embeddings"
   ]
  },
  {
   "cell_type": "code",
   "execution_count": 17,
   "id": "5d01c015",
   "metadata": {},
   "outputs": [],
   "source": [
    "from gensim.models import Word2Vec, FastText\n",
    "\n",
    "def train_and_get_embeddings(tokenized_text: pd.Series, model_type: str, params: dict):\n",
    "    \"\"\"\n",
    "    Trains a specified dense vector model on a given pandas Series of text data.\n",
    "\n",
    "    :param text_column: pandas Series with text data\n",
    "    :param model_type: Type of model to train ('skipgram', 'cbow', or 'fasttext')\n",
    "    :param params: Dictionary containing the training parameters\n",
    "    :return: The trained model\n",
    "    \"\"\"\n",
    "    \n",
    "    # Validate model type before proceeding\n",
    "    allowable_models = ['word2vec', 'fasttext']\n",
    "    if model_type not in allowable_models:\n",
    "        raise ValueError(f\"Invalid model type specified. Choose from the following: {allowable_models}\")\n",
    "        \n",
    "    # Train the model based on the specified type\n",
    "    if model_type == 'word2vec':\n",
    "        model = Word2Vec(sentences=tokenized_text, **params)\n",
    "    elif model_type == 'fasttext':\n",
    "        model = FastText(sentences=tokenized_text, **params)\n",
    "                         \n",
    "    return model"
   ]
  },
  {
   "cell_type": "code",
   "execution_count": 18,
   "id": "d9bd20f5",
   "metadata": {},
   "outputs": [],
   "source": [
    "def document_vector(tokenized_text, model):\n",
    "    \n",
    "    # remove out-of-vocabulary words\n",
    "    tokenized_text = [word for word in tokenized_text if word in model.wv.index_to_key]\n",
    "    if len(tokenized_text) >= 1:\n",
    "        return np.mean(model.wv[tokenized_text], axis=0)\n",
    "    else:\n",
    "        return np.zeros(model.vector_size)"
   ]
  },
  {
   "cell_type": "code",
   "execution_count": 19,
   "id": "c7d35a4b",
   "metadata": {},
   "outputs": [],
   "source": [
    "from sklearn.model_selection import train_test_split\n",
    "\n",
    "# Split the dataset into training and test sets\n",
    "train_data, test_data = train_test_split(df, test_size=0.2, random_state=42, stratify=df['category'])"
   ]
  },
  {
   "cell_type": "code",
   "execution_count": 20,
   "id": "d55bec2f",
   "metadata": {},
   "outputs": [],
   "source": [
    "## ************* uncomment for first run *******************\n",
    "\n",
    "# Train model and get word embeddings \n",
    "# skipgram_word2vec_model = train_and_get_embeddings(train_data['preprocessed_tokens_12'], 'word2vec', {'vector_size': 100, 'window': 5, 'min_count': 1, 'sg':1})\n",
    "# skipgram_word2vec_model.save('skipgram_word2vec_model_v1.w2v')"
   ]
  },
  {
   "cell_type": "code",
   "execution_count": 21,
   "id": "73ba63db",
   "metadata": {},
   "outputs": [],
   "source": [
    "## ************* uncomment for first run *******************\n",
    "\n",
    "# Train model and get word embeddings \n",
    "# skipgram_fasttext_model = train_and_get_embeddings(train_data['preprocessed_tokens_12'], 'fasttext', {'vector_size': 100, 'window': 5, 'min_count': 1, 'sg':1})\n",
    "# skipgram_fasttext_model.save('skipgram_fasttext_model_v1.w2v')"
   ]
  },
  {
   "cell_type": "markdown",
   "id": "312f7b5b",
   "metadata": {},
   "source": [
    "### Train non-NN Models"
   ]
  },
  {
   "cell_type": "markdown",
   "id": "066c7bc4",
   "metadata": {},
   "source": [
    "Word2Vec generates dense vector representations of words, where each word is represented by a continuous-valued vector in a high-dimensional space. These word vectors can capture syntactic and semantic word relationships based on the context in which words appear. When using these vectors as features, you can potentially improve the performance of various machine learning models, including those you mentioned. However, there are some nuances to consider for each:\n",
    "\n",
    "<b>Multinomial Naive Bayes:</b> This model is traditionally used with discrete features (like word counts or TF-IDF scores). It assumes that features have a multinomial distribution which is not the case with dense word vectors that are real-valued. You could still use Word2Vec features with Naive Bayes, but a Gaussian Naive Bayes might be more appropriate because it can handle continuous input.\n",
    "\n",
    "<b>Support Vector Machine:</b> SVM works well with high-dimensional data and can handle dense vectors effectively. Using Word2Vec embeddings with SVM is a common practice, especially with non-linear kernels that can capture complex relationships.\n",
    "\n",
    "<b>Logistic Regression:</b> Similar to SVM, logistic regression can work with dense input features. It makes fewer assumptions about the distribution of the input features compared to Naive Bayes, so it's more suitable for real-valued vectors produced by Word2Vec.\n",
    "\n",
    "<b>K-Nearest Neighbors (KNN):</b> KNN can technically work with any kind of features, as long as you can define a distance metric. Word2Vec embeddings can be used with KNN, but it's worth noting that KNN can become computationally expensive with high-dimensional data, especially if you have a large dataset because it relies on distance computations between "
   ]
  },
  {
   "cell_type": "markdown",
   "id": "d61e32ac",
   "metadata": {},
   "source": [
    "#### Therefore, we will experiment with SVM and Logistic Regression"
   ]
  },
  {
   "cell_type": "code",
   "execution_count": 22,
   "id": "f257801e",
   "metadata": {},
   "outputs": [
    {
     "data": {
      "text/plain": [
       "108173"
      ]
     },
     "execution_count": 22,
     "metadata": {},
     "output_type": "execute_result"
    }
   ],
   "source": [
    "embedding_model = Word2Vec.load('skipgram_word2vec_model_v1.w2v')\n",
    "len(embedding_model.wv)"
   ]
  },
  {
   "cell_type": "code",
   "execution_count": 23,
   "id": "785a61ff",
   "metadata": {},
   "outputs": [],
   "source": [
    "# Use trained model to generate document vectors\n",
    "embedding_model = Word2Vec.load('skipgram_word2vec_model_v1.w2v')\n",
    "X_train = np.vstack(train_data['preprocessed_tokens_12'].apply(lambda x: document_vector(x, embedding_model)))\n",
    "X_test = np.vstack(test_data['preprocessed_tokens_12'].apply(lambda x: document_vector(x, embedding_model)))\n",
    "\n",
    "# Get the labels\n",
    "y_train = train_data['category'].values\n",
    "y_test = test_data['category'].values"
   ]
  },
  {
   "cell_type": "code",
   "execution_count": 24,
   "id": "37f0816e",
   "metadata": {},
   "outputs": [],
   "source": [
    "from sklearn.preprocessing import StandardScaler\n",
    "\n",
    "# Standardize the feature vectors since SVM and Logistic Regression are sensitive to the scale of input features\n",
    "scaler = StandardScaler()\n",
    "X_train = scaler.fit_transform(X_train)\n",
    "X_test = scaler.transform(X_test)"
   ]
  },
  {
   "cell_type": "markdown",
   "id": "a42a3750",
   "metadata": {},
   "source": [
    "#### Linear SVM"
   ]
  },
  {
   "cell_type": "code",
   "execution_count": 67,
   "id": "faab42ff",
   "metadata": {},
   "outputs": [],
   "source": [
    "from sklearn.svm import SVC\n",
    "from sklearn.metrics import classification_report, accuracy_score, f1_score\n",
    "import pickle\n",
    "\n",
    "# ***************** Uncomment to train model *********************\n",
    "# # Train linear SVM\n",
    "# svm_linear = SVC(kernel='linear', class_weight='balanced', random_state=42) #The class_weight='balanced' parameter will automatically weight the classes inversely proportional to their frequency, which is useful when working with imbalanced data sets.\n",
    "# svm_linear.fit(X_train, y_train)\n",
    "\n",
    "# # Save Model\n",
    "# with open('svm_linear.pkl', 'wb') as file:\n",
    "#     pickle.dump(svm_linear, file)\n",
    "\n",
    "# *****************************************************************\n",
    "\n",
    "with open('svm_linear.pkl', 'rb') as file:\n",
    "    loaded_model = pickle.load(file)\n"
   ]
  },
  {
   "cell_type": "code",
   "execution_count": 38,
   "id": "e2c80aba",
   "metadata": {},
   "outputs": [
    {
     "name": "stdout",
     "output_type": "stream",
     "text": [
      "Linear Kernel SVM Results on Training set:\n",
      "Accuracy: 0.47562285223367695\n",
      "F1-score: 0.5029475093760939\n",
      "                precision    recall  f1-score   support\n",
      "\n",
      "          ARTS       0.19      0.46      0.26      1207\n",
      "ARTS & CULTURE       0.16      0.38      0.22      1071\n",
      "  BLACK VOICES       0.32      0.28      0.30      3666\n",
      "      BUSINESS       0.42      0.36      0.38      4793\n",
      "       COLLEGE       0.22      0.50      0.31       915\n",
      "        COMEDY       0.35      0.44      0.39      4320\n",
      "         CRIME       0.45      0.61      0.52      2850\n",
      "CULTURE & ARTS       0.22      0.52      0.30       859\n",
      "       DIVORCE       0.56      0.65      0.60      2741\n",
      "     EDUCATION       0.22      0.61      0.32       811\n",
      " ENTERTAINMENT       0.74      0.45      0.56     13889\n",
      "   ENVIRONMENT       0.22      0.39      0.28      1155\n",
      "         FIFTY       0.08      0.34      0.13      1121\n",
      "  FOOD & DRINK       0.62      0.54      0.57      5072\n",
      "     GOOD NEWS       0.23      0.42      0.29      1118\n",
      "         GREEN       0.27      0.36      0.31      2098\n",
      "HEALTHY LIVING       0.35      0.31      0.33      5355\n",
      " HOME & LIVING       0.62      0.65      0.63      3456\n",
      "        IMPACT       0.27      0.31      0.29      2787\n",
      " LATINO VOICES       0.08      0.25      0.13       904\n",
      "         MEDIA       0.28      0.51      0.36      2354\n",
      "         MONEY       0.28      0.55      0.37      1405\n",
      "     PARENTING       0.54      0.40      0.46      7033\n",
      "       PARENTS       0.33      0.36      0.35      3164\n",
      "      POLITICS       0.89      0.48      0.63     28481\n",
      "  QUEER VOICES       0.63      0.46      0.53      5077\n",
      "      RELIGION       0.29      0.46      0.35      2061\n",
      "       SCIENCE       0.35      0.53      0.42      1765\n",
      "        SPORTS       0.59      0.63      0.61      4062\n",
      "         STYLE       0.30      0.56      0.39      1803\n",
      "STYLE & BEAUTY       0.86      0.64      0.73      7851\n",
      "         TASTE       0.26      0.49      0.34      1677\n",
      "          TECH       0.35      0.54      0.42      1683\n",
      " THE WORLDPOST       0.40      0.36      0.38      2931\n",
      "        TRAVEL       0.76      0.60      0.67      7920\n",
      "     U.S. NEWS       0.14      0.39      0.20      1102\n",
      "      WEDDINGS       0.66      0.71      0.68      2922\n",
      "    WEIRD NEWS       0.31      0.36      0.34      2222\n",
      "      WELLNESS       0.72      0.47      0.57     14356\n",
      "         WOMEN       0.29      0.36      0.32      2858\n",
      "    WORLD NEWS       0.37      0.37      0.37      2639\n",
      "     WORLDPOST       0.34      0.52      0.41      2062\n",
      "\n",
      "      accuracy                           0.48    167616\n",
      "     macro avg       0.39      0.47      0.41    167616\n",
      "  weighted avg       0.58      0.48      0.50    167616\n",
      "\n"
     ]
    }
   ],
   "source": [
    "# Evaluate on train\n",
    "y_pred_linear = loaded_model.predict(X_train)\n",
    "accuracy_linear = accuracy_score(y_train, y_pred_linear)\n",
    "f1_score_linear = f1_score(y_train, y_pred_linear, average='weighted')\n",
    "report_linear = classification_report(y_train, y_pred_linear)\n",
    "\n",
    "print('Linear Kernel SVM Results on Training set:')\n",
    "print(f'Accuracy: {accuracy_linear}')\n",
    "print(f'F1-score: {f1_score_linear}')\n",
    "print(report_linear)"
   ]
  },
  {
   "cell_type": "code",
   "execution_count": 40,
   "id": "93c12218",
   "metadata": {},
   "outputs": [
    {
     "name": "stdout",
     "output_type": "stream",
     "text": [
      "Linear Kernel SVM Results on Testing Set:\n",
      "Accuracy: 0.46168714950483236\n",
      "F1-score: 0.4908333943444046\n",
      "                precision    recall  f1-score   support\n",
      "\n",
      "          ARTS       0.15      0.37      0.22       302\n",
      "ARTS & CULTURE       0.13      0.28      0.17       268\n",
      "  BLACK VOICES       0.30      0.29      0.30       917\n",
      "      BUSINESS       0.41      0.37      0.39      1198\n",
      "       COLLEGE       0.20      0.48      0.29       229\n",
      "        COMEDY       0.34      0.43      0.38      1080\n",
      "         CRIME       0.46      0.61      0.53       712\n",
      "CULTURE & ARTS       0.18      0.39      0.25       215\n",
      "       DIVORCE       0.55      0.62      0.58       685\n",
      "     EDUCATION       0.17      0.46      0.25       203\n",
      " ENTERTAINMENT       0.73      0.45      0.55      3473\n",
      "   ENVIRONMENT       0.18      0.31      0.23       289\n",
      "         FIFTY       0.07      0.33      0.11       280\n",
      "  FOOD & DRINK       0.63      0.54      0.58      1268\n",
      "     GOOD NEWS       0.20      0.39      0.26       280\n",
      "         GREEN       0.26      0.30      0.28       524\n",
      "HEALTHY LIVING       0.33      0.29      0.31      1339\n",
      " HOME & LIVING       0.58      0.65      0.61       864\n",
      "        IMPACT       0.24      0.29      0.26       697\n",
      " LATINO VOICES       0.05      0.16      0.08       226\n",
      "         MEDIA       0.27      0.49      0.35       589\n",
      "         MONEY       0.26      0.47      0.33       351\n",
      "     PARENTING       0.50      0.39      0.44      1758\n",
      "       PARENTS       0.31      0.35      0.33       791\n",
      "      POLITICS       0.88      0.49      0.63      7120\n",
      "  QUEER VOICES       0.61      0.45      0.52      1269\n",
      "      RELIGION       0.29      0.45      0.35       515\n",
      "       SCIENCE       0.32      0.44      0.37       441\n",
      "        SPORTS       0.61      0.61      0.61      1015\n",
      "         STYLE       0.29      0.53      0.37       451\n",
      "STYLE & BEAUTY       0.83      0.63      0.71      1963\n",
      "         TASTE       0.28      0.50      0.36       419\n",
      "          TECH       0.30      0.48      0.37       421\n",
      " THE WORLDPOST       0.37      0.34      0.36       733\n",
      "        TRAVEL       0.75      0.62      0.68      1980\n",
      "     U.S. NEWS       0.12      0.36      0.18       275\n",
      "      WEDDINGS       0.67      0.68      0.67       731\n",
      "    WEIRD NEWS       0.32      0.34      0.33       555\n",
      "      WELLNESS       0.70      0.45      0.55      3589\n",
      "         WOMEN       0.25      0.33      0.29       714\n",
      "    WORLD NEWS       0.32      0.29      0.30       660\n",
      "     WORLDPOST       0.32      0.49      0.38       516\n",
      "\n",
      "      accuracy                           0.46     41905\n",
      "     macro avg       0.37      0.43      0.38     41905\n",
      "  weighted avg       0.56      0.46      0.49     41905\n",
      "\n"
     ]
    }
   ],
   "source": [
    "y_pred_linear = loaded_model.predict(X_test)\n",
    "accuracy_linear = accuracy_score(y_test, y_pred_linear)\n",
    "f1_score_linear = f1_score(y_test, y_pred_linear, average='weighted')\n",
    "report_linear = classification_report(y_test, y_pred_linear)\n",
    "\n",
    "print('Linear Kernel SVM Results on Testing Set:')\n",
    "print(f'Accuracy: {accuracy_linear}')\n",
    "print(f'F1-score: {f1_score_linear}')\n",
    "print(report_linear)"
   ]
  },
  {
   "cell_type": "markdown",
   "id": "06c66162",
   "metadata": {},
   "source": [
    "#### Non Linear SVM"
   ]
  },
  {
   "cell_type": "code",
   "execution_count": 30,
   "id": "c4d5a397",
   "metadata": {},
   "outputs": [],
   "source": [
    "from sklearn.metrics import classification_report, accuracy_score, f1_score\n",
    "import pickle\n",
    "\n",
    "# ***************** Uncomment to train model *********************\n",
    "\n",
    "# # Train SVM with non-linear kernel (RBF)\n",
    "# svm_nonlinear = SVC(kernel='rbf', class_weight='balanced', random_state=42) \n",
    "# svm_nonlinear.fit(X_train, y_train)\n",
    "\n",
    "# # Save the non-linear SVM model\n",
    "# with open('svm_rbf.pkl', 'wb') as file:\n",
    "#     pickle.dump(svm_nonlinear, file)\n",
    "\n",
    "# *****************************************************************    \n",
    "    \n",
    "with open('svm_rbf.pkl', 'rb') as file:\n",
    "    loaded_model = pickle.load(file)\n"
   ]
  },
  {
   "cell_type": "code",
   "execution_count": null,
   "id": "ac592896",
   "metadata": {},
   "outputs": [],
   "source": [
    "# Evaluate on train\n",
    "\n",
    "y_pred_rbf = loaded_model.predict(X_train)\n",
    "accuracy_rbf = accuracy_score(y_train, y_pred_rbf)\n",
    "f1_score_rbf = f1_score(y_train, y_pred_rbf, average='weighted')\n",
    "report_rbf = classification_report(y_train, y_pred_rbf)\n",
    "\n",
    "print('RBF Kernel SVM Results on Training set:')\n",
    "print(f'Accuracy: {accuracy_linear}')\n",
    "print(f'F1-score: {f1_score_linear}')\n",
    "print(report_linear)"
   ]
  },
  {
   "cell_type": "code",
   "execution_count": 37,
   "id": "0ef29f2d",
   "metadata": {},
   "outputs": [
    {
     "name": "stdout",
     "output_type": "stream",
     "text": [
      "Non-Linear Kernel (RBF) SVM Results:\n",
      "Accuracy: 0.5239231595275027\n",
      "                precision    recall  f1-score   support\n",
      "\n",
      "          ARTS       0.21      0.40      0.28       302\n",
      "ARTS & CULTURE       0.18      0.33      0.23       268\n",
      "  BLACK VOICES       0.36      0.35      0.35       917\n",
      "      BUSINESS       0.45      0.43      0.44      1198\n",
      "       COLLEGE       0.26      0.42      0.32       229\n",
      "        COMEDY       0.39      0.47      0.43      1080\n",
      "         CRIME       0.44      0.66      0.53       712\n",
      "CULTURE & ARTS       0.22      0.40      0.29       215\n",
      "       DIVORCE       0.59      0.66      0.62       685\n",
      "     EDUCATION       0.23      0.47      0.31       203\n",
      " ENTERTAINMENT       0.73      0.53      0.61      3473\n",
      "   ENVIRONMENT       0.23      0.34      0.27       289\n",
      "         FIFTY       0.10      0.33      0.15       280\n",
      "  FOOD & DRINK       0.64      0.62      0.63      1268\n",
      "     GOOD NEWS       0.28      0.37      0.32       280\n",
      "         GREEN       0.32      0.34      0.33       524\n",
      "HEALTHY LIVING       0.41      0.34      0.37      1339\n",
      " HOME & LIVING       0.61      0.69      0.65       864\n",
      "        IMPACT       0.26      0.33      0.29       697\n",
      " LATINO VOICES       0.10      0.16      0.12       226\n",
      "         MEDIA       0.31      0.51      0.38       589\n",
      "         MONEY       0.29      0.55      0.38       351\n",
      "     PARENTING       0.53      0.50      0.52      1758\n",
      "       PARENTS       0.36      0.34      0.35       791\n",
      "      POLITICS       0.88      0.57      0.69      7120\n",
      "  QUEER VOICES       0.64      0.50      0.56      1269\n",
      "      RELIGION       0.34      0.45      0.39       515\n",
      "       SCIENCE       0.41      0.48      0.44       441\n",
      "        SPORTS       0.60      0.64      0.62      1015\n",
      "         STYLE       0.39      0.55      0.45       451\n",
      "STYLE & BEAUTY       0.82      0.72      0.77      1963\n",
      "         TASTE       0.32      0.48      0.39       419\n",
      "          TECH       0.35      0.53      0.42       421\n",
      " THE WORLDPOST       0.42      0.43      0.42       733\n",
      "        TRAVEL       0.74      0.68      0.71      1980\n",
      "     U.S. NEWS       0.17      0.36      0.23       275\n",
      "      WEDDINGS       0.71      0.71      0.71       731\n",
      "    WEIRD NEWS       0.32      0.35      0.34       555\n",
      "      WELLNESS       0.70      0.58      0.63      3589\n",
      "         WOMEN       0.29      0.34      0.31       714\n",
      "    WORLD NEWS       0.36      0.37      0.36       660\n",
      "     WORLDPOST       0.42      0.57      0.48       516\n",
      "\n",
      "      accuracy                           0.52     41905\n",
      "     macro avg       0.41      0.47      0.43     41905\n",
      "  weighted avg       0.59      0.52      0.54     41905\n",
      "\n"
     ]
    }
   ],
   "source": [
    "# Evaluate on test\n",
    "\n",
    "y_pred_rbf = loaded_model.predict(X_test)\n",
    "accuracy_rbf = accuracy_score(y_test, y_pred_rbf)\n",
    "report_rbf = classification_report(y_test, y_pred_rbf)\n",
    "\n",
    "print('Non-Linear Kernel (RBF) SVM Results:')\n",
    "print(f'Accuracy: {accuracy_rbf}')\n",
    "print(report_rbf)"
   ]
  },
  {
   "cell_type": "markdown",
   "id": "c12b1720",
   "metadata": {},
   "source": [
    "#### Logistic Regression"
   ]
  },
  {
   "cell_type": "code",
   "execution_count": 28,
   "id": "42a65041",
   "metadata": {},
   "outputs": [],
   "source": [
    "from sklearn.linear_model import LogisticRegression\n",
    "from sklearn.metrics import classification_report, accuracy_score, f1_score\n",
    "import pickle\n",
    "\n",
    "# ***************** Uncomment to train model *********************\n",
    "\n",
    "# # Train Logistic Regression\n",
    "# log_reg = LogisticRegression(class_weight='balanced', random_state=42)\n",
    "# log_reg.fit(X_train, y_train)\n",
    "\n",
    "# # Save the Logistic Regression model\n",
    "# with open('logistic_regression.pkl', 'wb') as file:\n",
    "#     pickle.dump(log_reg, file)\n",
    "    \n",
    "# *****************************************************************    \n",
    "\n",
    "with open('logistic_regression.pkl', 'rb') as file:\n",
    "    loaded_model = pickle.load(file)"
   ]
  },
  {
   "cell_type": "code",
   "execution_count": 29,
   "id": "ebf960fe",
   "metadata": {},
   "outputs": [
    {
     "name": "stdout",
     "output_type": "stream",
     "text": [
      "Logistic Regression Results:\n",
      "Accuracy: 0.45342926689576174\n",
      "F1-score: 0.48085320032543505\n",
      "                precision    recall  f1-score   support\n",
      "\n",
      "          ARTS       0.18      0.36      0.24      1207\n",
      "ARTS & CULTURE       0.14      0.33      0.19      1071\n",
      "  BLACK VOICES       0.31      0.26      0.28      3666\n",
      "      BUSINESS       0.42      0.32      0.36      4793\n",
      "       COLLEGE       0.21      0.46      0.29       915\n",
      "        COMEDY       0.36      0.41      0.38      4320\n",
      "         CRIME       0.47      0.54      0.50      2850\n",
      "CULTURE & ARTS       0.16      0.50      0.25       859\n",
      "       DIVORCE       0.50      0.65      0.57      2741\n",
      "     EDUCATION       0.17      0.57      0.27       811\n",
      " ENTERTAINMENT       0.74      0.39      0.51     13889\n",
      "   ENVIRONMENT       0.19      0.37      0.25      1155\n",
      "         FIFTY       0.08      0.28      0.12      1121\n",
      "  FOOD & DRINK       0.63      0.51      0.56      5072\n",
      "     GOOD NEWS       0.21      0.39      0.27      1118\n",
      "         GREEN       0.24      0.28      0.26      2098\n",
      "HEALTHY LIVING       0.34      0.27      0.30      5355\n",
      " HOME & LIVING       0.58      0.65      0.61      3456\n",
      "        IMPACT       0.26      0.30      0.28      2787\n",
      " LATINO VOICES       0.07      0.22      0.11       904\n",
      "         MEDIA       0.25      0.49      0.33      2354\n",
      "         MONEY       0.24      0.55      0.33      1405\n",
      "     PARENTING       0.51      0.38      0.43      7033\n",
      "       PARENTS       0.29      0.35      0.32      3164\n",
      "      POLITICS       0.89      0.46      0.61     28481\n",
      "  QUEER VOICES       0.58      0.48      0.53      5077\n",
      "      RELIGION       0.27      0.46      0.34      2061\n",
      "       SCIENCE       0.32      0.51      0.39      1765\n",
      "        SPORTS       0.56      0.60      0.58      4062\n",
      "         STYLE       0.28      0.52      0.36      1803\n",
      "STYLE & BEAUTY       0.83      0.65      0.73      7851\n",
      "         TASTE       0.24      0.47      0.31      1677\n",
      "          TECH       0.31      0.51      0.38      1683\n",
      " THE WORLDPOST       0.38      0.36      0.37      2931\n",
      "        TRAVEL       0.72      0.61      0.66      7920\n",
      "     U.S. NEWS       0.11      0.34      0.17      1102\n",
      "      WEDDINGS       0.60      0.68      0.64      2922\n",
      "    WEIRD NEWS       0.27      0.34      0.30      2222\n",
      "      WELLNESS       0.70      0.47      0.56     14356\n",
      "         WOMEN       0.26      0.35      0.30      2858\n",
      "    WORLD NEWS       0.32      0.35      0.34      2639\n",
      "     WORLDPOST       0.31      0.49      0.38      2062\n",
      "\n",
      "      accuracy                           0.45    167616\n",
      "     macro avg       0.37      0.44      0.38    167616\n",
      "  weighted avg       0.56      0.45      0.48    167616\n",
      "\n"
     ]
    }
   ],
   "source": [
    "# Evaluate on train\n",
    "\n",
    "y_pred_log_reg = loaded_model.predict(X_train)\n",
    "accuracy_log_reg = accuracy_score(y_train, y_pred_log_reg)\n",
    "f1_score_log_reg = f1_score(y_train, y_pred_log_reg, average='weighted')\n",
    "report_log_reg = classification_report(y_train, y_pred_log_reg)\n",
    "\n",
    "print('Logistic Regression Results:')\n",
    "print(f'Accuracy: {accuracy_log_reg}')\n",
    "print(f'F1-score: {f1_score_log_reg}')\n",
    "print(report_log_reg)"
   ]
  },
  {
   "cell_type": "code",
   "execution_count": 39,
   "id": "71fc7c57",
   "metadata": {},
   "outputs": [
    {
     "name": "stdout",
     "output_type": "stream",
     "text": [
      "Logistic Regression Results:\n",
      "Accuracy: 0.4524758382054647\n",
      "                precision    recall  f1-score   support\n",
      "\n",
      "          ARTS       0.15      0.31      0.20       302\n",
      "ARTS & CULTURE       0.13      0.29      0.18       268\n",
      "  BLACK VOICES       0.30      0.27      0.29       917\n",
      "      BUSINESS       0.43      0.34      0.38      1198\n",
      "       COLLEGE       0.21      0.47      0.29       229\n",
      "        COMEDY       0.35      0.40      0.37      1080\n",
      "         CRIME       0.50      0.56      0.53       712\n",
      "CULTURE & ARTS       0.17      0.46      0.25       215\n",
      "       DIVORCE       0.51      0.63      0.56       685\n",
      "     EDUCATION       0.16      0.53      0.25       203\n",
      " ENTERTAINMENT       0.74      0.39      0.51      3473\n",
      "   ENVIRONMENT       0.17      0.30      0.22       289\n",
      "         FIFTY       0.08      0.31      0.13       280\n",
      "  FOOD & DRINK       0.64      0.51      0.57      1268\n",
      "     GOOD NEWS       0.19      0.37      0.25       280\n",
      "         GREEN       0.26      0.29      0.27       524\n",
      "HEALTHY LIVING       0.32      0.26      0.29      1339\n",
      " HOME & LIVING       0.53      0.66      0.59       864\n",
      "        IMPACT       0.25      0.30      0.27       697\n",
      " LATINO VOICES       0.06      0.17      0.09       226\n",
      "         MEDIA       0.26      0.49      0.34       589\n",
      "         MONEY       0.24      0.52      0.33       351\n",
      "     PARENTING       0.49      0.37      0.42      1758\n",
      "       PARENTS       0.29      0.35      0.32       791\n",
      "      POLITICS       0.89      0.47      0.61      7120\n",
      "  QUEER VOICES       0.57      0.48      0.52      1269\n",
      "      RELIGION       0.27      0.46      0.34       515\n",
      "       SCIENCE       0.31      0.46      0.37       441\n",
      "        SPORTS       0.58      0.60      0.59      1015\n",
      "         STYLE       0.28      0.51      0.36       451\n",
      "STYLE & BEAUTY       0.80      0.64      0.72      1963\n",
      "         TASTE       0.27      0.50      0.35       419\n",
      "          TECH       0.30      0.50      0.37       421\n",
      " THE WORLDPOST       0.36      0.36      0.36       733\n",
      "        TRAVEL       0.73      0.62      0.67      1980\n",
      "     U.S. NEWS       0.12      0.41      0.19       275\n",
      "      WEDDINGS       0.60      0.67      0.63       731\n",
      "    WEIRD NEWS       0.31      0.35      0.33       555\n",
      "      WELLNESS       0.68      0.47      0.55      3589\n",
      "         WOMEN       0.25      0.34      0.29       714\n",
      "    WORLD NEWS       0.31      0.30      0.30       660\n",
      "     WORLDPOST       0.31      0.48      0.38       516\n",
      "\n",
      "      accuracy                           0.45     41905\n",
      "     macro avg       0.37      0.43      0.38     41905\n",
      "  weighted avg       0.56      0.45      0.48     41905\n",
      "\n"
     ]
    }
   ],
   "source": [
    "# Evaluate on test\n",
    "\n",
    "y_pred_log_reg = loaded_model.predict(X_test)\n",
    "accuracy_log_reg = accuracy_score(y_test, y_pred_log_reg)\n",
    "f1_score_log_reg = f1_score(y_test, y_pred_log_reg, average='weighted')\n",
    "report_log_reg = classification_report(y_test, y_pred_log_reg)\n",
    "\n",
    "print('Logistic Regression Results:')\n",
    "print(f'Accuracy: {accuracy_log_reg}')\n",
    "print(f'F1-score: {f1_score_log_reg}')\n",
    "print(report_log_reg)"
   ]
  },
  {
   "cell_type": "markdown",
   "id": "222efd20",
   "metadata": {},
   "source": [
    "### Train NN Models"
   ]
  },
  {
   "cell_type": "code",
   "execution_count": 45,
   "id": "15304ddd",
   "metadata": {},
   "outputs": [],
   "source": [
    "from sklearn.preprocessing import OneHotEncoder\n",
    "\n",
    "y_train = y_train.reshape(-1, 1)\n",
    "y_test = y_test.reshape(-1, 1)\n",
    "\n",
    "one_hot_encoder = OneHotEncoder(sparse=False)\n",
    "y_train_one_hot = one_hot_encoder.fit_transform(y_train)\n",
    "y_test_one_hot = one_hot_encoder.transform(y_test)"
   ]
  },
  {
   "cell_type": "code",
   "execution_count": 46,
   "id": "9893767d",
   "metadata": {},
   "outputs": [
    {
     "data": {
      "text/plain": [
       "(167616, 42)"
      ]
     },
     "execution_count": 46,
     "metadata": {},
     "output_type": "execute_result"
    }
   ],
   "source": [
    "y_train_one_hot.shape"
   ]
  },
  {
   "cell_type": "code",
   "execution_count": 55,
   "id": "850ba55c",
   "metadata": {},
   "outputs": [],
   "source": [
    "import tensorflow as tf\n",
    "from tensorflow.keras.models import Sequential\n",
    "from tensorflow.keras.layers import Dense, Dropout\n",
    "from tensorflow.keras.optimizers import Adam\n",
    "from tensorflow.keras.models import load_model\n",
    "from tensorflow.keras.regularizers import l2\n",
    "\n",
    "\n",
    "model = Sequential([\n",
    "    Dense(512, input_shape=(X_train.shape[1],), activation='relu', kernel_regularizer=l2(0.001)),\n",
    "    Dropout(0.5),\n",
    "    Dense(256, activation='relu', kernel_regularizer=l2(0.001)),\n",
    "    Dropout(0.5),\n",
    "    Dense(42, activation='softmax')  # Output layer with 42 neurons for 42 classes\n",
    "])\n",
    "\n",
    "# Compile the model\n",
    "model.compile(\n",
    "    optimizer=Adam(learning_rate=0.001),\n",
    "    loss='categorical_crossentropy',\n",
    "    metrics=['accuracy']\n",
    ")"
   ]
  },
  {
   "cell_type": "code",
   "execution_count": 56,
   "id": "fb5033da",
   "metadata": {},
   "outputs": [
    {
     "name": "stdout",
     "output_type": "stream",
     "text": [
      "Epoch 1/50\n",
      "2096/2096 [==============================] - 8s 4ms/step - loss: 2.3300 - accuracy: 0.4693 - val_loss: 1.9168 - val_accuracy: 0.5303\n",
      "Epoch 2/50\n",
      "2096/2096 [==============================] - 8s 4ms/step - loss: 2.0205 - accuracy: 0.5067 - val_loss: 1.8542 - val_accuracy: 0.5364\n",
      "Epoch 3/50\n",
      "2096/2096 [==============================] - 8s 4ms/step - loss: 1.9743 - accuracy: 0.5129 - val_loss: 1.8180 - val_accuracy: 0.5418\n",
      "Epoch 4/50\n",
      "2096/2096 [==============================] - 8s 4ms/step - loss: 1.9554 - accuracy: 0.5161 - val_loss: 1.8114 - val_accuracy: 0.5466\n",
      "Epoch 5/50\n",
      "2096/2096 [==============================] - 8s 4ms/step - loss: 1.9471 - accuracy: 0.5173 - val_loss: 1.8134 - val_accuracy: 0.5447\n",
      "Epoch 6/50\n",
      "2096/2096 [==============================] - 8s 4ms/step - loss: 1.9464 - accuracy: 0.5204 - val_loss: 1.8123 - val_accuracy: 0.5445\n",
      "Epoch 7/50\n",
      "2096/2096 [==============================] - 8s 4ms/step - loss: 1.9415 - accuracy: 0.5203 - val_loss: 1.8089 - val_accuracy: 0.5459\n",
      "Epoch 8/50\n",
      "2096/2096 [==============================] - 9s 4ms/step - loss: 1.9406 - accuracy: 0.5218 - val_loss: 1.8119 - val_accuracy: 0.5477\n",
      "Epoch 9/50\n",
      "2096/2096 [==============================] - 8s 4ms/step - loss: 1.9444 - accuracy: 0.5216 - val_loss: 1.8100 - val_accuracy: 0.5493\n",
      "Epoch 10/50\n",
      "2096/2096 [==============================] - 8s 4ms/step - loss: 1.9388 - accuracy: 0.5231 - val_loss: 1.8161 - val_accuracy: 0.5455\n",
      "Epoch 11/50\n",
      "2096/2096 [==============================] - 8s 4ms/step - loss: 1.9405 - accuracy: 0.5241 - val_loss: 1.8063 - val_accuracy: 0.5483\n",
      "Epoch 12/50\n",
      "2096/2096 [==============================] - 8s 4ms/step - loss: 1.9399 - accuracy: 0.5247 - val_loss: 1.8121 - val_accuracy: 0.5472\n",
      "Epoch 13/50\n",
      "2096/2096 [==============================] - 8s 4ms/step - loss: 1.9432 - accuracy: 0.5234 - val_loss: 1.8073 - val_accuracy: 0.5472\n",
      "Epoch 14/50\n",
      "2096/2096 [==============================] - 8s 4ms/step - loss: 1.9407 - accuracy: 0.5246 - val_loss: 1.8019 - val_accuracy: 0.5488\n",
      "Epoch 15/50\n",
      "2096/2096 [==============================] - 10s 5ms/step - loss: 1.9419 - accuracy: 0.5235 - val_loss: 1.8035 - val_accuracy: 0.5484\n",
      "Epoch 16/50\n",
      "2096/2096 [==============================] - 9s 4ms/step - loss: 1.9409 - accuracy: 0.5253 - val_loss: 1.8088 - val_accuracy: 0.5471\n",
      "Epoch 17/50\n",
      "2096/2096 [==============================] - 8s 4ms/step - loss: 1.9428 - accuracy: 0.5239 - val_loss: 1.8068 - val_accuracy: 0.5504\n",
      "Epoch 18/50\n",
      "2096/2096 [==============================] - 8s 4ms/step - loss: 1.9423 - accuracy: 0.5239 - val_loss: 1.8055 - val_accuracy: 0.5503\n",
      "Epoch 19/50\n",
      "2096/2096 [==============================] - 8s 4ms/step - loss: 1.9430 - accuracy: 0.5236 - val_loss: 1.8072 - val_accuracy: 0.5500\n",
      "Epoch 20/50\n",
      "2096/2096 [==============================] - 8s 4ms/step - loss: 1.9394 - accuracy: 0.5246 - val_loss: 1.8106 - val_accuracy: 0.5512\n",
      "Epoch 21/50\n",
      "2096/2096 [==============================] - 8s 4ms/step - loss: 1.9448 - accuracy: 0.5231 - val_loss: 1.8128 - val_accuracy: 0.5492\n",
      "Epoch 22/50\n",
      "2096/2096 [==============================] - 8s 4ms/step - loss: 1.9425 - accuracy: 0.5243 - val_loss: 1.8021 - val_accuracy: 0.5498\n",
      "Epoch 23/50\n",
      "2096/2096 [==============================] - 8s 4ms/step - loss: 1.9446 - accuracy: 0.5245 - val_loss: 1.8125 - val_accuracy: 0.5501\n",
      "Epoch 24/50\n",
      "2096/2096 [==============================] - 8s 4ms/step - loss: 1.9406 - accuracy: 0.5248 - val_loss: 1.8107 - val_accuracy: 0.5504\n",
      "Epoch 25/50\n",
      "2096/2096 [==============================] - 8s 4ms/step - loss: 1.9446 - accuracy: 0.5234 - val_loss: 1.8079 - val_accuracy: 0.5475\n",
      "Epoch 26/50\n",
      "2096/2096 [==============================] - 8s 4ms/step - loss: 1.9435 - accuracy: 0.5239 - val_loss: 1.8149 - val_accuracy: 0.5486\n",
      "Epoch 27/50\n",
      "2096/2096 [==============================] - 8s 4ms/step - loss: 1.9448 - accuracy: 0.5248 - val_loss: 1.8181 - val_accuracy: 0.5468\n",
      "Epoch 28/50\n",
      "2096/2096 [==============================] - 8s 4ms/step - loss: 1.9463 - accuracy: 0.5236 - val_loss: 1.8136 - val_accuracy: 0.5467\n",
      "Epoch 29/50\n",
      "2096/2096 [==============================] - 8s 4ms/step - loss: 1.9450 - accuracy: 0.5237 - val_loss: 1.8183 - val_accuracy: 0.5500\n",
      "Epoch 30/50\n",
      "2096/2096 [==============================] - 8s 4ms/step - loss: 1.9440 - accuracy: 0.5246 - val_loss: 1.8148 - val_accuracy: 0.5489\n",
      "Epoch 31/50\n",
      "2096/2096 [==============================] - 8s 4ms/step - loss: 1.9445 - accuracy: 0.5240 - val_loss: 1.8087 - val_accuracy: 0.5478\n",
      "Epoch 32/50\n",
      "2096/2096 [==============================] - 8s 4ms/step - loss: 1.9473 - accuracy: 0.5241 - val_loss: 1.8119 - val_accuracy: 0.5472\n",
      "Epoch 33/50\n",
      "2096/2096 [==============================] - 8s 4ms/step - loss: 1.9416 - accuracy: 0.5252 - val_loss: 1.8063 - val_accuracy: 0.5519\n",
      "Epoch 34/50\n",
      "2096/2096 [==============================] - 8s 4ms/step - loss: 1.9431 - accuracy: 0.5261 - val_loss: 1.8126 - val_accuracy: 0.5490\n",
      "Epoch 35/50\n",
      "2096/2096 [==============================] - 8s 4ms/step - loss: 1.9432 - accuracy: 0.5238 - val_loss: 1.7975 - val_accuracy: 0.5486\n",
      "Epoch 36/50\n",
      "2096/2096 [==============================] - 8s 4ms/step - loss: 1.9464 - accuracy: 0.5247 - val_loss: 1.8192 - val_accuracy: 0.5468\n",
      "Epoch 37/50\n",
      "2096/2096 [==============================] - 8s 4ms/step - loss: 1.9478 - accuracy: 0.5253 - val_loss: 1.8095 - val_accuracy: 0.5486\n",
      "Epoch 38/50\n",
      "2096/2096 [==============================] - 8s 4ms/step - loss: 1.9460 - accuracy: 0.5232 - val_loss: 1.8062 - val_accuracy: 0.5489\n",
      "Epoch 39/50\n",
      "2096/2096 [==============================] - 8s 4ms/step - loss: 1.9447 - accuracy: 0.5249 - val_loss: 1.8137 - val_accuracy: 0.5484\n",
      "Epoch 40/50\n",
      "2096/2096 [==============================] - 8s 4ms/step - loss: 1.9439 - accuracy: 0.5238 - val_loss: 1.8113 - val_accuracy: 0.5488\n",
      "Epoch 41/50\n",
      "2096/2096 [==============================] - 8s 4ms/step - loss: 1.9450 - accuracy: 0.5246 - val_loss: 1.8061 - val_accuracy: 0.5486\n",
      "Epoch 42/50\n",
      "2096/2096 [==============================] - 8s 4ms/step - loss: 1.9470 - accuracy: 0.5244 - val_loss: 1.8122 - val_accuracy: 0.5476\n",
      "Epoch 43/50\n",
      "2096/2096 [==============================] - 8s 4ms/step - loss: 1.9475 - accuracy: 0.5241 - val_loss: 1.8114 - val_accuracy: 0.5515\n",
      "Epoch 44/50\n",
      "2096/2096 [==============================] - 8s 4ms/step - loss: 1.9426 - accuracy: 0.5252 - val_loss: 1.8150 - val_accuracy: 0.5486\n",
      "Epoch 45/50\n",
      "2096/2096 [==============================] - 8s 4ms/step - loss: 1.9423 - accuracy: 0.5260 - val_loss: 1.8072 - val_accuracy: 0.5521\n",
      "Epoch 46/50\n",
      "2096/2096 [==============================] - 8s 4ms/step - loss: 1.9426 - accuracy: 0.5254 - val_loss: 1.8068 - val_accuracy: 0.5494\n",
      "Epoch 47/50\n",
      "2096/2096 [==============================] - 8s 4ms/step - loss: 1.9449 - accuracy: 0.5238 - val_loss: 1.8164 - val_accuracy: 0.5456\n",
      "Epoch 48/50\n",
      "2096/2096 [==============================] - 8s 4ms/step - loss: 1.9444 - accuracy: 0.5245 - val_loss: 1.8115 - val_accuracy: 0.5492\n",
      "Epoch 49/50\n",
      "2096/2096 [==============================] - 8s 4ms/step - loss: 1.9426 - accuracy: 0.5249 - val_loss: 1.8132 - val_accuracy: 0.5458\n",
      "Epoch 50/50\n",
      "2096/2096 [==============================] - 8s 4ms/step - loss: 1.9427 - accuracy: 0.5253 - val_loss: 1.8028 - val_accuracy: 0.5497\n"
     ]
    },
    {
     "name": "stderr",
     "output_type": "stream",
     "text": [
      "C:\\Users\\shrut\\anaconda3\\lib\\site-packages\\keras\\src\\engine\\training.py:3079: UserWarning: You are saving your model as an HDF5 file via `model.save()`. This file format is considered legacy. We recommend using instead the native Keras format, e.g. `model.save('my_model.keras')`.\n",
      "  saving_api.save_model(\n"
     ]
    }
   ],
   "source": [
    "# Train the model\n",
    "history = model.fit(\n",
    "    X_train, y_train_one_hot,\n",
    "    epochs=50,\n",
    "    batch_size=64,\n",
    "    validation_split=0.2,\n",
    "    verbose=1\n",
    ")\n",
    "\n",
    "model.save('nn_wv_sg_1.h5')"
   ]
  },
  {
   "cell_type": "code",
   "execution_count": 51,
   "id": "4fec293a",
   "metadata": {},
   "outputs": [
    {
     "data": {
      "text/plain": [
       "<matplotlib.legend.Legend at 0x28610b2cf10>"
      ]
     },
     "execution_count": 51,
     "metadata": {},
     "output_type": "execute_result"
    },
    {
     "data": {
      "image/png": "[encoded data removed]",
      "text/plain": [
       "<Figure size 432x288 with 1 Axes>"
      ]
     },
     "metadata": {
      "needs_background": "light"
     },
     "output_type": "display_data"
    }
   ],
   "source": [
    "import matplotlib.pyplot as plt\n",
    "\n",
    "plt.plot(history.history['accuracy'], label='accuracy')\n",
    "plt.plot(history.history['val_accuracy'], label='val_accuracy')\n",
    "plt.xlabel('Epoch')\n",
    "plt.ylabel('Accuracy')\n",
    "plt.ylim([0, 1])\n",
    "plt.legend(loc='lower right')"
   ]
  },
  {
   "cell_type": "code",
   "execution_count": 53,
   "id": "94d1f789",
   "metadata": {},
   "outputs": [
    {
     "name": "stdout",
     "output_type": "stream",
     "text": [
      "1310/1310 [==============================] - 2s 1ms/step\n",
      "NN Results:\n",
      "Accuracy: 0.0\n",
      "F1-score: 0.5102146939691555\n",
      "              precision    recall  f1-score   support\n",
      "\n",
      "           0       0.37      0.12      0.18       302\n",
      "           1       0.44      0.07      0.12       268\n",
      "           2       0.56      0.12      0.20       917\n",
      "           3       0.49      0.36      0.42      1198\n",
      "           4       0.46      0.11      0.18       229\n",
      "           5       0.61      0.22      0.32      1080\n",
      "           6       0.46      0.58      0.51       712\n",
      "           7       0.47      0.23      0.31       215\n",
      "           8       0.71      0.54      0.61       685\n",
      "           9       0.43      0.23      0.30       203\n",
      "          10       0.54      0.76      0.63      3473\n",
      "          11       0.76      0.16      0.26       289\n",
      "          12       0.56      0.02      0.03       280\n",
      "          13       0.57      0.78      0.66      1268\n",
      "          14       0.47      0.12      0.19       280\n",
      "          15       0.41      0.34      0.37       524\n",
      "          16       0.50      0.16      0.24      1339\n",
      "          17       0.67      0.64      0.65       864\n",
      "          18       0.39      0.18      0.25       697\n",
      "          19       0.00      0.00      0.00       226\n",
      "          20       0.54      0.12      0.19       589\n",
      "          21       0.55      0.16      0.24       351\n",
      "          22       0.47      0.59      0.52      1758\n",
      "          23       0.51      0.18      0.27       791\n",
      "          24       0.59      0.89      0.71      7120\n",
      "          25       0.58      0.46      0.52      1269\n",
      "          26       0.65      0.22      0.33       515\n",
      "          27       0.63      0.31      0.41       441\n",
      "          28       0.63      0.60      0.61      1015\n",
      "          29       0.66      0.18      0.28       451\n",
      "          30       0.77      0.76      0.77      1963\n",
      "          31       0.48      0.02      0.05       419\n",
      "          32       0.58      0.31      0.41       421\n",
      "          33       0.40      0.46      0.43       733\n",
      "          34       0.62      0.77      0.69      1980\n",
      "          35       0.67      0.02      0.04       275\n",
      "          36       0.68      0.69      0.68       731\n",
      "          37       0.33      0.35      0.34       555\n",
      "          38       0.48      0.86      0.62      3589\n",
      "          39       0.45      0.19      0.26       714\n",
      "          40       0.37      0.08      0.13       660\n",
      "          41       0.66      0.24      0.35       516\n",
      "\n",
      "    accuracy                           0.56     41905\n",
      "   macro avg       0.53      0.34      0.36     41905\n",
      "weighted avg       0.55      0.56      0.51     41905\n",
      "\n"
     ]
    },
    {
     "name": "stderr",
     "output_type": "stream",
     "text": [
      "C:\\Users\\shrut\\anaconda3\\lib\\site-packages\\sklearn\\metrics\\_classification.py:1318: UndefinedMetricWarning: Precision and F-score are ill-defined and being set to 0.0 in labels with no predicted samples. Use `zero_division` parameter to control this behavior.\n",
      "  _warn_prf(average, modifier, msg_start, len(result))\n",
      "C:\\Users\\shrut\\anaconda3\\lib\\site-packages\\sklearn\\metrics\\_classification.py:1318: UndefinedMetricWarning: Precision and F-score are ill-defined and being set to 0.0 in labels with no predicted samples. Use `zero_division` parameter to control this behavior.\n",
      "  _warn_prf(average, modifier, msg_start, len(result))\n",
      "C:\\Users\\shrut\\anaconda3\\lib\\site-packages\\sklearn\\metrics\\_classification.py:1318: UndefinedMetricWarning: Precision and F-score are ill-defined and being set to 0.0 in labels with no predicted samples. Use `zero_division` parameter to control this behavior.\n",
      "  _warn_prf(average, modifier, msg_start, len(result))\n"
     ]
    }
   ],
   "source": [
    "model = load_model('nn_wv_sg_1.h5')\n",
    "y_preds = model.predict(X_test)\n",
    "y_preds = np.argmax(y_preds, axis=1)\n",
    "y_test_label_encoded = np.argmax(y_test_one_hot, axis=1)\n",
    "\n",
    "accuracy = accuracy_score(y_test, y_preds)\n",
    "f1_score_nn = f1_score(y_test_label_encoded, y_preds, average='weighted')\n",
    "report = classification_report(y_test_label_encoded, y_preds)\n",
    "\n",
    "print('NN Results:')\n",
    "print(f'Accuracy: {accuracy}')\n",
    "print(f'F1-score: {f1_score_nn}')\n",
    "print(report)"
   ]
  },
  {
   "cell_type": "code",
   "execution_count": null,
   "id": "adc91e8f",
   "metadata": {},
   "outputs": [],
   "source": []
  }
 ],
 "metadata": {
  "kernelspec": {
   "display_name": "Python 3 (ipykernel)",
   "language": "python",
   "name": "python3"
  },
  "language_info": {
   "codemirror_mode": {
    "name": "ipython",
    "version": 3
   },
   "file_extension": ".py",
   "mimetype": "text/x-python",
   "name": "python",
   "nbconvert_exporter": "python",
   "pygments_lexer": "ipython3",
   "version": "3.9.12"
  }
 },
 "nbformat": 4,
 "nbformat_minor": 5
}
